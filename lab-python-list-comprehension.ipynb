{
 "cells": [
  {
   "cell_type": "markdown",
   "id": "25d7736c-ba17-4aff-b6bb-66eba20fbf4e",
   "metadata": {},
   "source": [
    "# Lab | List, Dict and Set Comprehension"
   ]
  },
  {
   "cell_type": "markdown",
   "id": "7dd3cbde-675a-4b81-92c3-f728846dbe06",
   "metadata": {},
   "source": [
    "## Exercise: Managing Customer Orders Optimized with Comprehension"
   ]
  },
  {
   "cell_type": "markdown",
   "id": "5d500160-2fb7-4777-b5e4-09d45ebaf328",
   "metadata": {},
   "source": [
    "In the previous exercise, you developed a program to manage customer orders and inventory. Now, let's take it a step further and incorporate comprehension into your code.\n",
    "\n",
    "Follow the steps below to complete the exercise:\n",
    "\n",
    "1. Review your code from the previous exercise and identify areas where you can apply comprehension to simplify and streamline your code. \n",
    "\n",
    "    - *Hint: Apply it to initialize inventory, updating the inventory and printing the updated inventory.*\n",
    "    \n",
    "    - For example, in initializing the inventory, we could have:\n",
    "    \n",
    "        ```python\n",
    "        def initialize_inventory(products):\n",
    "            inventory = {product: int(input(f\"Enter the quantity of {product}s available: \")) for product in products}\n",
    "            return inventory\n",
    "\n",
    "        ```\n",
    "<br>\n",
    "    \n",
    "    \n",
    "2. Modify the function get_customer_orders so it prompts the user to enter the number of customer orders and gathers the product names using a loop and user input. Use comprehension.\n",
    "\n",
    "3. Add a new function to calculate the total price of the customer order. For each product in customer_orders, prompt the user to enter the price of that product. Use comprehension to calculate the total price. Note: assume that the user can only have 1 unit of each product.\n",
    "\n",
    "4. Modify the update_inventory function to remove the product from the inventory if its quantity becomes zero after fulfilling the customer orders. Use comprehension to filter out the products with a quantity of zero from the inventory.\n",
    "\n",
    "5. Print the total price of the customer order.\n",
    "\n",
    "Your code should produce output similar to the following:\n",
    "\n",
    "```python\n",
    "Enter the quantity of t-shirts available:  5\n",
    "Enter the quantity of mugs available:  4\n",
    "Enter the quantity of hats available:  3\n",
    "Enter the quantity of books available:  2\n",
    "Enter the quantity of keychains available:  1\n",
    "Enter the number of customer orders:  2\n",
    "Enter the name of a product that a customer wants to order:  hat\n",
    "Enter the name of a product that a customer wants to order:  keychain\n",
    "\n",
    "Order Statistics:\n",
    "Total Products Ordered: 2\n",
    "Percentage of Unique Products Ordered: 40.0\n",
    "\n",
    "Updated Inventory:\n",
    "t-shirt: 5\n",
    "mug: 4\n",
    "hat: 2\n",
    "book: 2\n",
    "Enter the price of keychain:  5\n",
    "Enter the price of hat:  10\n",
    "Total Price: 15.0\n",
    "\n",
    "```\n"
   ]
  },
  {
   "cell_type": "code",
   "execution_count": 86,
   "id": "c55cf070-609e-46d0-9944-2b588bb0504a",
   "metadata": {},
   "outputs": [
    {
     "name": "stdin",
     "output_type": "stream",
     "text": [
      "Enter the quantity of t-shirts available:  1\n",
      "Enter the quantity of mugs available:  1\n",
      "Enter the quantity of hats available:  1\n",
      "Enter the quantity of books available:  11\n",
      "Enter the quantity of keychains available:  1\n"
     ]
    },
    {
     "name": "stdout",
     "output_type": "stream",
     "text": [
      "{'t-shirt': 1, 'mug': 1, 'hat': 1, 'book': 11, 'keychain': 1}\n"
     ]
    }
   ],
   "source": [
    "products = [\"t-shirt\", \"mug\", \"hat\", \"book\", \"keychain\"]\n",
    "\n",
    "\n",
    "# 1\n",
    "# Review your code from the previous exercise and identify areas where you can apply comprehension to simplify and streamline your code.\n",
    "\n",
    "def initialize_inventory(products):\n",
    "    inventory = {product: int(input(f\"Enter the quantity of {product}s available: \")) for product in products}\n",
    "    return inventory\n",
    "    \n",
    "# Usability\n",
    "inventory = initialize_inventory(products)\n",
    "print (inventory)\n",
    "\n"
   ]
  },
  {
   "cell_type": "code",
   "execution_count": 87,
   "id": "bf6d0faf-527d-4c7d-a57f-7a77d163de9c",
   "metadata": {},
   "outputs": [
    {
     "name": "stdin",
     "output_type": "stream",
     "text": [
      "Enter the number of customer orders:  4\n",
      "Enter the name of a product you want to order:  mug\n",
      "Enter the name of a product you want to order:  hat\n",
      "Enter the name of a product you want to order:  book\n",
      "Enter the name of a product you want to order:  cat\n"
     ]
    },
    {
     "name": "stdout",
     "output_type": "stream",
     "text": [
      "{'mug', 'hat', 'book'}\n"
     ]
    }
   ],
   "source": [
    "# 2\n",
    "# Modify the function get_customer_orders so it prompts the user to enter \n",
    "# the number of customer orders and gathers the product names using a loop and user input. Use comprehension.\n",
    "\n",
    "def get_customer_orders():\n",
    "    num_orders = int(input('Enter the number of customer orders: '))\n",
    "    orders = [input('Enter the name of a product you want to order: ').lower() for _ in range(num_orders)]\n",
    "    customer_orders = {order for order in orders if order in products}\n",
    "\n",
    "    return customer_orders\n",
    "\n",
    "# Usability\n",
    "customer_orders = get_customer_orders()\n",
    "print (customer_orders)"
   ]
  },
  {
   "cell_type": "code",
   "execution_count": 88,
   "id": "79f3a42d-1ea2-4499-9e72-a5ffcbe77650",
   "metadata": {},
   "outputs": [
    {
     "name": "stdout",
     "output_type": "stream",
     "text": [
      "(3, 60.0)\n"
     ]
    }
   ],
   "source": [
    "def calculate_order_statistics(customer_orders, products):\n",
    "    total_products_ordered = len(customer_orders)\n",
    "    total_products_inventory = len(products)\n",
    "    if total_products_inventory >= 0:\n",
    "        \n",
    "        percentage_of_products_ordered = round((total_products_ordered / total_products_inventory) * 100, 2)\n",
    "        order_statistics = (total_products_ordered, percentage_of_products_ordered)\n",
    "    else:\n",
    "        order_statistics = (\"We have no products in inventory\")\n",
    "    return order_statistics\n",
    "\n",
    "# Usability\n",
    "order_stats = calculate_order_statistics(customer_orders, products)\n",
    "print (order_stats)"
   ]
  },
  {
   "cell_type": "code",
   "execution_count": 89,
   "id": "955ef5b4-6d20-4289-9aee-b7b2c8575e98",
   "metadata": {},
   "outputs": [
    {
     "name": "stdin",
     "output_type": "stream",
     "text": [
      "enter the price of mug 3\n",
      "enter the price of hat 4\n",
      "enter the price of book 5\n"
     ]
    },
    {
     "name": "stdout",
     "output_type": "stream",
     "text": [
      "12\n"
     ]
    }
   ],
   "source": [
    "# Add a new function to calculate the total price of the customer order.\n",
    "# For each product in customer_orders, prompt the user to enter the price of that product.\n",
    "# Use comprehension to calculate the total price.\n",
    "# Note: assume that the user can only have 1 unit of each product.\n",
    "\n",
    "def total_price(customer_orders):\n",
    "    price = [int(input(f\"enter the price of {product}\")) for product in customer_orders]\n",
    "    total_price = sum(price)\n",
    "    return total_price\n",
    "\n",
    "# usability\n",
    "order_price = total_price(customer_orders)\n",
    "print (order_price)"
   ]
  },
  {
   "cell_type": "code",
   "execution_count": 90,
   "id": "85e5f7fc-2746-47d0-9dd7-08fe3a6a8b23",
   "metadata": {},
   "outputs": [
    {
     "name": "stdout",
     "output_type": "stream",
     "text": [
      "{'t-shirt': 1, 'book': 10, 'keychain': 1}\n"
     ]
    }
   ],
   "source": [
    "# Modify the update_inventory function to remove the product from the inventory if its quantity becomes zero after fulfilling the customer orders.\n",
    "# Use comprehension to filter out the products with a quantity of zero from the inventory.\n",
    "\n",
    "def update_inventory(customer_orders, inventory):\n",
    "    updated_inventory = {product : inventory[product] - 1 if product in customer_orders else inventory[product] for product in inventory}\n",
    "    updated_inventory = {product: count for product, count in updated_inventory.items() if count > 0}\n",
    "    return updated_inventory\n",
    "\n",
    "# Usability\n",
    "outcome = update_inventory(customer_orders, inventory)\n",
    "print (outcome)\n"
   ]
  },
  {
   "cell_type": "code",
   "execution_count": 96,
   "id": "46aa3f6f-edda-4732-8860-4c8c6d60fab3",
   "metadata": {},
   "outputs": [
    {
     "name": "stdout",
     "output_type": "stream",
     "text": [
      "12\n"
     ]
    }
   ],
   "source": [
    "# Print the total price of the customer order.\n",
    "print (order_price)\n"
   ]
  },
  {
   "cell_type": "code",
   "execution_count": null,
   "id": "96947a24-be49-412f-baee-e99f6629cf48",
   "metadata": {},
   "outputs": [],
   "source": []
  }
 ],
 "metadata": {
  "kernelspec": {
   "display_name": "Python 3 (ipykernel)",
   "language": "python",
   "name": "python3"
  },
  "language_info": {
   "codemirror_mode": {
    "name": "ipython",
    "version": 3
   },
   "file_extension": ".py",
   "mimetype": "text/x-python",
   "name": "python",
   "nbconvert_exporter": "python",
   "pygments_lexer": "ipython3",
   "version": "3.11.7"
  }
 },
 "nbformat": 4,
 "nbformat_minor": 5
}
